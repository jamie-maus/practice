{
  "nbformat": 4,
  "nbformat_minor": 0,
  "metadata": {
    "colab": {
      "provenance": [],
      "authorship_tag": "ABX9TyN3vUvMG7PLjUd4Hr7rxBgf",
      "include_colab_link": true
    },
    "kernelspec": {
      "name": "python3",
      "display_name": "Python 3"
    },
    "language_info": {
      "name": "python"
    }
  },
  "cells": [
    {
      "cell_type": "markdown",
      "metadata": {
        "id": "view-in-github",
        "colab_type": "text"
      },
      "source": [
        "<a href=\"https://colab.research.google.com/github/jamie-maus/practice/blob/main/in_class_examples.ipynb\" target=\"_parent\"><img src=\"https://colab.research.google.com/assets/colab-badge.svg\" alt=\"Open In Colab\"/></a>"
      ]
    },
    {
      "cell_type": "code",
      "execution_count": 9,
      "metadata": {
        "id": "GwRVzNFGMQfs"
      },
      "outputs": [],
      "source": [
        "class Mortgage:\n",
        "  def __init__ (self, amount, maturity, interest):\n",
        "    self.amount = amount\n",
        "    self.maturity = maturity\n",
        "    self.__interest = interest\n",
        "\n",
        "  def __str__(self):\n",
        "    return f\"<Mortgage info\\n Initial loan amount : {self.amount}\\n Maturity term: {self.maturity} \\n Interest amount: {self.__interest} >\"\n",
        "\n",
        "  def get_interest(self):\n",
        "    return self.__interest\n",
        "\n",
        "  def set_interest(self, newInterest):\n",
        "    if newInterest >=0:\n",
        "      self.__interest = newInterest\n",
        "    else:\n",
        "      print('Interest must be a non-negative!')\n",
        "\n",
        "  def payment(self):\n",
        "    B = self.amount\n",
        "    n = self.maturity*12\n",
        "    r = self.interest / 100\n",
        "\n",
        "    return B * (r*(1+r)** n) / ((1+r) ** n-1)\n",
        "\n"
      ]
    },
    {
      "cell_type": "code",
      "source": [
        "m = Mortgage(10000, 30, 0.06)"
      ],
      "metadata": {
        "id": "wF_toG8pO4ri"
      },
      "execution_count": 10,
      "outputs": []
    },
    {
      "cell_type": "code",
      "source": [
        "print(m)"
      ],
      "metadata": {
        "colab": {
          "base_uri": "https://localhost:8080/"
        },
        "id": "AXP8tdVCxZ17",
        "outputId": "1e3bb59e-60f7-4295-e49f-16985b009a98"
      },
      "execution_count": 11,
      "outputs": [
        {
          "output_type": "stream",
          "name": "stdout",
          "text": [
            "<Mortgage info\n",
            " Initial loan amount : 10000\n",
            " Maturity term: 30 \n",
            " Interest amount: 0.06 >\n"
          ]
        }
      ]
    },
    {
      "cell_type": "code",
      "source": [
        "m.set_interest(5)\n",
        "m.get_interest()"
      ],
      "metadata": {
        "colab": {
          "base_uri": "https://localhost:8080/"
        },
        "id": "7cL8buYeTS3G",
        "outputId": "f08f2a0e-1d00-4ed3-b4e6-31a442456858"
      },
      "execution_count": 12,
      "outputs": [
        {
          "output_type": "execute_result",
          "data": {
            "text/plain": [
              "5"
            ]
          },
          "metadata": {},
          "execution_count": 12
        }
      ]
    },
    {
      "cell_type": "code",
      "source": [
        "class A:\n",
        "  def __init__(self,obj):\n",
        "    self.obj = obj\n",
        "\n",
        "  def whoAmI(self):\n",
        "    print('I am an instance of class A')\n",
        "\n",
        "  def __str__(self):\n",
        "    return f\"<attribute value: {self.obj}>\"\n",
        "\n",
        "  def __eq__(self, other):\n",
        "    return self.obj == other.obj\n",
        "\n",
        "  def __add__(self, other):\n",
        "    return self.obj + other.obj\n",
        "\n",
        "class B:\n",
        "  def __init__(self, obj):\n",
        "    self.obj = obj\n",
        "\n",
        "  def whoAmI(self):\n",
        "    print('I am an instance of class B')\n",
        "\n",
        "a1= A(2)\n",
        "a2= A(5)\n",
        "b= B(4)"
      ],
      "metadata": {
        "id": "jokGoqzDoPqJ"
      },
      "execution_count": 13,
      "outputs": []
    },
    {
      "cell_type": "code",
      "source": [
        "a1 + a2"
      ],
      "metadata": {
        "colab": {
          "base_uri": "https://localhost:8080/"
        },
        "id": "zY4K9UhCtodk",
        "outputId": "a4dc2e64-b43d-4d31-f923-fc1bf19b2f26"
      },
      "execution_count": 14,
      "outputs": [
        {
          "output_type": "execute_result",
          "data": {
            "text/plain": [
              "7"
            ]
          },
          "metadata": {},
          "execution_count": 14
        }
      ]
    },
    {
      "cell_type": "code",
      "source": [
        "b.whoAmI()"
      ],
      "metadata": {
        "colab": {
          "base_uri": "https://localhost:8080/"
        },
        "id": "IGdj8zbGoyga",
        "outputId": "84b0c5bb-99c4-4893-b103-04e0930e987f"
      },
      "execution_count": 15,
      "outputs": [
        {
          "output_type": "stream",
          "name": "stdout",
          "text": [
            "I am an instance of class B\n"
          ]
        }
      ]
    },
    {
      "cell_type": "code",
      "source": [
        "print(a1)"
      ],
      "metadata": {
        "colab": {
          "base_uri": "https://localhost:8080/"
        },
        "id": "pu-bXKlVqyJZ",
        "outputId": "28ec81cb-fe22-4723-fb48-ce5b766ea52e"
      },
      "execution_count": 17,
      "outputs": [
        {
          "output_type": "stream",
          "name": "stdout",
          "text": [
            "<attribute value: 2>\n"
          ]
        }
      ]
    },
    {
      "cell_type": "code",
      "source": [
        "class Point:\n",
        "  def __init__(self, x, y):\n",
        "    self.x = x\n",
        "    self.y = y\n",
        "  def distance(self, other):\n",
        "    x_diff= (self.x - other.x)**2\n",
        "    y_diff= (self.y - other.y)**2\n",
        "    return (x_diff + y_diff)**0.5\n",
        "\n",
        "class Point3D(Point):\n",
        "  def __init__(self, x, y, z):\n",
        "    super(). __init__(x, y)\n",
        "    self.z = z\n",
        "    def distance(self, other):\n",
        "      x_diff= (self.x - other.x)**2\n",
        "      y_diff= (self.y - other.y)**2\n",
        "      z_diff= (self.z - other.z)**2\n",
        "      return (x_diff + y_diff + z_diff)**0.5\n",
        "\n",
        "p1= Point(3, 4)\n",
        "p2= Point(6, 8)\n",
        "print(p1.distance(p2))\n",
        "p3d_1 = Point3D(1, 2, 3)\n",
        "p3d_2= Point3D(4, 5, 6)\n",
        "print(p3d_2.distance(p3d_1))"
      ],
      "metadata": {
        "colab": {
          "base_uri": "https://localhost:8080/"
        },
        "id": "htbaWdPM-4w-",
        "outputId": "3dbbd343-c7b5-4732-a185-b874e9dce28b"
      },
      "execution_count": 18,
      "outputs": [
        {
          "output_type": "stream",
          "name": "stdout",
          "text": [
            "5.0\n",
            "4.242640687119285\n"
          ]
        }
      ]
    },
    {
      "cell_type": "code",
      "source": [
        "class Animal:\n",
        "  def __init__(self, legs):\n",
        "    print('Animal created')\n",
        "    self.legs= legs\n",
        "  def whoAmI(self):\n",
        "    print('I am an animal')\n",
        "\n",
        "class Bird(Animal):\n",
        "  def __init__(self, legs, wings):\n",
        "    print('Bird created')\n",
        "    super().__init__(legs)\n",
        "    self.wings = wings\n",
        "  def fly(self):\n",
        "    print('Birds can fly')\n",
        "\n",
        "a= Animal(4)\n",
        "b= Bird(2, 2)"
      ],
      "metadata": {
        "colab": {
          "base_uri": "https://localhost:8080/"
        },
        "id": "vij9n0hA-8nl",
        "outputId": "3141c14f-a06a-4fed-b48a-950ffbb9b519"
      },
      "execution_count": 19,
      "outputs": [
        {
          "output_type": "stream",
          "name": "stdout",
          "text": [
            "Animal created\n",
            "Bird created\n",
            "Animal created\n"
          ]
        }
      ]
    }
  ]
}