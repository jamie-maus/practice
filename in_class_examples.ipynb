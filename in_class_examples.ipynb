{
  "nbformat": 4,
  "nbformat_minor": 0,
  "metadata": {
    "colab": {
      "provenance": [],
      "authorship_tag": "ABX9TyPZt85OHC5rWVhgJQZvzumF",
      "include_colab_link": true
    },
    "kernelspec": {
      "name": "python3",
      "display_name": "Python 3"
    },
    "language_info": {
      "name": "python"
    }
  },
  "cells": [
    {
      "cell_type": "markdown",
      "metadata": {
        "id": "view-in-github",
        "colab_type": "text"
      },
      "source": [
        "<a href=\"https://colab.research.google.com/github/jamie-maus/practice/blob/main/in_class_examples.ipynb\" target=\"_parent\"><img src=\"https://colab.research.google.com/assets/colab-badge.svg\" alt=\"Open In Colab\"/></a>"
      ]
    },
    {
      "cell_type": "code",
      "execution_count": null,
      "metadata": {
        "id": "GwRVzNFGMQfs"
      },
      "outputs": [],
      "source": [
        "class Mortgage:\n",
        "  def __init__ (self, amount, maturity, interest):\n",
        "    self.amount = amount\n",
        "    self.maturity = maturity\n",
        "    self.__interest = interest\n",
        "\n",
        "  def __str__(self):\n",
        "    return f\"<Mortgage info\\n Initial loan amount : {self.amount}\\n Maturity term: {self.maturity} \\n Interest amount: {self.__interest} >\"\n",
        "\n",
        "  def get_interest(self):\n",
        "    return self.__interest\n",
        "\n",
        "  def set_interest(self, newInterest):\n",
        "    if newInterest >=0:\n",
        "      self.__interest = newInterest\n",
        "    else:\n",
        "      print('Interest must be a non-negative!')\n",
        "\n",
        "  def payment(self):\n",
        "    B = self.amount\n",
        "    n = self.maturity*12\n",
        "    r = self.interest / 100\n",
        "\n",
        "    return B * (r*(1+r)** n) / ((1+r) ** n-1)\n",
        "\n"
      ]
    },
    {
      "cell_type": "code",
      "source": [
        "m = Mortgage(10000, 30, 0.06)"
      ],
      "metadata": {
        "id": "wF_toG8pO4ri"
      },
      "execution_count": null,
      "outputs": []
    },
    {
      "cell_type": "code",
      "source": [
        "print(m)"
      ],
      "metadata": {
        "colab": {
          "base_uri": "https://localhost:8080/"
        },
        "id": "AXP8tdVCxZ17",
        "outputId": "8ce864a9-cf90-40fa-e46b-a095a4069d77"
      },
      "execution_count": null,
      "outputs": [
        {
          "output_type": "stream",
          "name": "stdout",
          "text": [
            "<Mortgage info\n",
            " Initial loan amount : 10000\n",
            " Maturity term: 30 \n",
            " Interest amount: 0.06 >\n"
          ]
        }
      ]
    },
    {
      "cell_type": "code",
      "source": [
        "m.payment()"
      ],
      "metadata": {
        "colab": {
          "base_uri": "https://localhost:8080/",
          "height": 258
        },
        "id": "A_yRvKIYSlwz",
        "outputId": "f8a3a178-5f62-4248-f514-e2024d52891d"
      },
      "execution_count": null,
      "outputs": [
        {
          "output_type": "error",
          "ename": "AttributeError",
          "evalue": "'Mortgage' object has no attribute 'interest'",
          "traceback": [
            "\u001b[0;31m---------------------------------------------------------------------------\u001b[0m",
            "\u001b[0;31mAttributeError\u001b[0m                            Traceback (most recent call last)",
            "\u001b[0;32m<ipython-input-8-8b8851359b31>\u001b[0m in \u001b[0;36m<cell line: 1>\u001b[0;34m()\u001b[0m\n\u001b[0;32m----> 1\u001b[0;31m \u001b[0mm\u001b[0m\u001b[0;34m.\u001b[0m\u001b[0mpayment\u001b[0m\u001b[0;34m(\u001b[0m\u001b[0;34m)\u001b[0m\u001b[0;34m\u001b[0m\u001b[0;34m\u001b[0m\u001b[0m\n\u001b[0m",
            "\u001b[0;32m<ipython-input-5-ad89ace7679c>\u001b[0m in \u001b[0;36mpayment\u001b[0;34m(self)\u001b[0m\n\u001b[1;32m     20\u001b[0m     \u001b[0mB\u001b[0m \u001b[0;34m=\u001b[0m \u001b[0mself\u001b[0m\u001b[0;34m.\u001b[0m\u001b[0mamount\u001b[0m\u001b[0;34m\u001b[0m\u001b[0;34m\u001b[0m\u001b[0m\n\u001b[1;32m     21\u001b[0m     \u001b[0mn\u001b[0m \u001b[0;34m=\u001b[0m \u001b[0mself\u001b[0m\u001b[0;34m.\u001b[0m\u001b[0mmaturity\u001b[0m\u001b[0;34m*\u001b[0m\u001b[0;36m12\u001b[0m\u001b[0;34m\u001b[0m\u001b[0;34m\u001b[0m\u001b[0m\n\u001b[0;32m---> 22\u001b[0;31m     \u001b[0mr\u001b[0m \u001b[0;34m=\u001b[0m \u001b[0mself\u001b[0m\u001b[0;34m.\u001b[0m\u001b[0minterest\u001b[0m \u001b[0;34m/\u001b[0m \u001b[0;36m100\u001b[0m\u001b[0;34m\u001b[0m\u001b[0;34m\u001b[0m\u001b[0m\n\u001b[0m\u001b[1;32m     23\u001b[0m \u001b[0;34m\u001b[0m\u001b[0m\n\u001b[1;32m     24\u001b[0m     \u001b[0;32mreturn\u001b[0m \u001b[0mB\u001b[0m \u001b[0;34m*\u001b[0m \u001b[0;34m(\u001b[0m\u001b[0mr\u001b[0m\u001b[0;34m*\u001b[0m\u001b[0;34m(\u001b[0m\u001b[0;36m1\u001b[0m\u001b[0;34m+\u001b[0m\u001b[0mr\u001b[0m\u001b[0;34m)\u001b[0m\u001b[0;34m**\u001b[0m \u001b[0mn\u001b[0m\u001b[0;34m)\u001b[0m \u001b[0;34m/\u001b[0m \u001b[0;34m(\u001b[0m\u001b[0;34m(\u001b[0m\u001b[0;36m1\u001b[0m\u001b[0;34m+\u001b[0m\u001b[0mr\u001b[0m\u001b[0;34m)\u001b[0m \u001b[0;34m**\u001b[0m \u001b[0mn\u001b[0m\u001b[0;34m-\u001b[0m\u001b[0;36m1\u001b[0m\u001b[0;34m)\u001b[0m\u001b[0;34m\u001b[0m\u001b[0;34m\u001b[0m\u001b[0m\n",
            "\u001b[0;31mAttributeError\u001b[0m: 'Mortgage' object has no attribute 'interest'"
          ]
        }
      ]
    },
    {
      "cell_type": "code",
      "source": [
        "m.set_interest(5)\n",
        "m.get_interest()"
      ],
      "metadata": {
        "colab": {
          "base_uri": "https://localhost:8080/"
        },
        "id": "7cL8buYeTS3G",
        "outputId": "5d0fe89f-855b-4e00-d1de-26e59753a554"
      },
      "execution_count": null,
      "outputs": [
        {
          "output_type": "execute_result",
          "data": {
            "text/plain": [
              "5"
            ]
          },
          "metadata": {},
          "execution_count": 9
        }
      ]
    },
    {
      "cell_type": "code",
      "source": [
        "m.__interest"
      ],
      "metadata": {
        "colab": {
          "base_uri": "https://localhost:8080/",
          "height": 139
        },
        "id": "Bnk06W68VHZX",
        "outputId": "a0986c86-021f-4460-dc52-18c86d8edb1b"
      },
      "execution_count": null,
      "outputs": [
        {
          "output_type": "error",
          "ename": "AttributeError",
          "evalue": "'Mortgage' object has no attribute '__interest'",
          "traceback": [
            "\u001b[0;31m---------------------------------------------------------------------------\u001b[0m",
            "\u001b[0;31mAttributeError\u001b[0m                            Traceback (most recent call last)",
            "\u001b[0;32m<ipython-input-10-293f056cf655>\u001b[0m in \u001b[0;36m<cell line: 1>\u001b[0;34m()\u001b[0m\n\u001b[0;32m----> 1\u001b[0;31m \u001b[0mm\u001b[0m\u001b[0;34m.\u001b[0m\u001b[0m__interest\u001b[0m\u001b[0;34m\u001b[0m\u001b[0;34m\u001b[0m\u001b[0m\n\u001b[0m",
            "\u001b[0;31mAttributeError\u001b[0m: 'Mortgage' object has no attribute '__interest'"
          ]
        }
      ]
    },
    {
      "cell_type": "code",
      "source": [
        "class A:\n",
        "  def __init__(self,obj):\n",
        "    self.obj = obj\n",
        "\n",
        "  def whoAmI(self):\n",
        "    print('I am an instance of class A')\n",
        "\n",
        "  def __str__(self):\n",
        "    return f\"<attribute value: {self.obj}>\"\n",
        "\n",
        "  def __eq__(self, other):\n",
        "    return self.obj == other.obj\n",
        "\n",
        "  def __add__(self, other):\n",
        "    return self.obj + other.obj\n",
        "\n",
        "class B:\n",
        "  def __init__(self, obj):\n",
        "    self.obj = obj\n",
        "\n",
        "  def whoAmI(self):\n",
        "    print('I am an instance of class B')\n",
        "\n",
        "a1= A(2)\n",
        "a2= A(5)\n",
        "b= B(4)"
      ],
      "metadata": {
        "id": "jokGoqzDoPqJ"
      },
      "execution_count": null,
      "outputs": []
    },
    {
      "cell_type": "code",
      "source": [
        "a1 + a2"
      ],
      "metadata": {
        "colab": {
          "base_uri": "https://localhost:8080/"
        },
        "id": "zY4K9UhCtodk",
        "outputId": "36e275a2-b663-43c2-b567-d48663423128"
      },
      "execution_count": null,
      "outputs": [
        {
          "output_type": "execute_result",
          "data": {
            "text/plain": [
              "7"
            ]
          },
          "metadata": {},
          "execution_count": 12
        }
      ]
    },
    {
      "cell_type": "code",
      "source": [
        "b.whoAmI()"
      ],
      "metadata": {
        "colab": {
          "base_uri": "https://localhost:8080/"
        },
        "id": "IGdj8zbGoyga",
        "outputId": "d8d2c861-6815-46a3-eaad-e17b7fc24aa6"
      },
      "execution_count": null,
      "outputs": [
        {
          "output_type": "stream",
          "name": "stdout",
          "text": [
            "I am an instance of class B\n"
          ]
        }
      ]
    },
    {
      "cell_type": "code",
      "source": [
        "print(a)"
      ],
      "metadata": {
        "colab": {
          "base_uri": "https://localhost:8080/"
        },
        "id": "pu-bXKlVqyJZ",
        "outputId": "91c76ef0-47b2-4a67-9d7d-fce98433e4a4"
      },
      "execution_count": null,
      "outputs": [
        {
          "output_type": "stream",
          "name": "stdout",
          "text": [
            "<__main__.Animal object at 0x7f18d5a47cd0>\n"
          ]
        }
      ]
    },
    {
      "cell_type": "markdown",
      "source": [
        "str and repr perform the same function"
      ],
      "metadata": {
        "id": "iXXTzcB8usSa"
      }
    },
    {
      "cell_type": "code",
      "source": [
        "class Point:\n",
        "  def __init__(self, x, y):\n",
        "    self.x = x\n",
        "    self.y = y\n",
        "  def distance(self, other):\n",
        "    x_diff= (self.x - other.x)**2\n",
        "    y_diff= (self.y - other.y)**2\n",
        "    return (x_diff + y_diff)**0.5\n",
        "\n",
        "class Point3D(Point):\n",
        "  def __init__(self, x, y, z):\n",
        "    super(). __init__(x, y)\n",
        "    self.z = z\n",
        "    def distance(self, other):\n",
        "      x_diff= (self.x - other.x)**2\n",
        "      y_diff= (self.y - other.y)**2\n",
        "      z_diff= (self.z - other.z)**2\n",
        "      return (x_diff + y_diff + z_diff)**0.5\n",
        "\n",
        "p1= Point(3, 4)\n",
        "p2= Point(6, 8)\n",
        "print(p1.distance(p2))\n",
        "p3d_1 = Point3D(1, 2, 3)\n",
        "p3d_2= Point3D(4, 5, 6)\n",
        "print(p3d_2.distance(p3d_1))"
      ],
      "metadata": {
        "colab": {
          "base_uri": "https://localhost:8080/"
        },
        "id": "htbaWdPM-4w-",
        "outputId": "b69f3d3f-176c-4e0a-e823-f98710f1e8e5"
      },
      "execution_count": 25,
      "outputs": [
        {
          "output_type": "stream",
          "name": "stdout",
          "text": [
            "5.0\n",
            "4.242640687119285\n"
          ]
        }
      ]
    },
    {
      "cell_type": "code",
      "source": [
        "class Animal:\n",
        "  def __init__(self, legs):\n",
        "    print('Animal created')\n",
        "    self.legs= legs\n",
        "  def whoAmI(self):\n",
        "    print('I am an animal')\n",
        "\n",
        "class Bird(Animal):\n",
        "  def __init__(self, legs, wings):\n",
        "    print('Bird created')\n",
        "    super().__init__(legs)\n",
        "    self.wings = wings\n",
        "  def fly(self):\n",
        "    print('Birds can fly')\n",
        "\n",
        "a= Animal(4)\n",
        "b= Bird(2, 2)"
      ],
      "metadata": {
        "colab": {
          "base_uri": "https://localhost:8080/"
        },
        "id": "vij9n0hA-8nl",
        "outputId": "55a4ced7-2c58-4ed4-dc24-c1a492d98332"
      },
      "execution_count": null,
      "outputs": [
        {
          "output_type": "stream",
          "name": "stdout",
          "text": [
            "Animal created\n",
            "Bird created\n",
            "Animal created\n"
          ]
        }
      ]
    }
  ]
}