{
  "nbformat": 4,
  "nbformat_minor": 0,
  "metadata": {
    "colab": {
      "provenance": [],
      "authorship_tag": "ABX9TyOFQynE462k5I9fVNYiSAor",
      "include_colab_link": true
    },
    "kernelspec": {
      "name": "python3",
      "display_name": "Python 3"
    },
    "language_info": {
      "name": "python"
    }
  },
  "cells": [
    {
      "cell_type": "markdown",
      "metadata": {
        "id": "view-in-github",
        "colab_type": "text"
      },
      "source": [
        "<a href=\"https://colab.research.google.com/github/jamie-maus/practice/blob/main/Parking_Garage_Loop.ipynb\" target=\"_parent\"><img src=\"https://colab.research.google.com/assets/colab-badge.svg\" alt=\"Open In Colab\"/></a>"
      ]
    },
    {
      "cell_type": "code",
      "execution_count": null,
      "metadata": {
        "colab": {
          "base_uri": "https://localhost:8080/"
        },
        "id": "Snl4L5XamrnD",
        "outputId": "ed346454-c325-4193-ebb0-f21d723784b3"
      },
      "outputs": [
        {
          "output_type": "stream",
          "name": "stdout",
          "text": [
            "1)10\n",
            "2)10.0\n",
            "3)12.5\n",
            "4)15.0\n",
            "5)17.5\n",
            "6)20.0\n",
            "7)20\n",
            "8)20\n"
          ]
        }
      ],
      "source": [
        "fee_fixed=5\n",
        "fee_hr=2.5\n",
        "\n",
        "for hour in range(1,9,1):\n",
        "\n",
        "  totalfee= fee_fixed + fee_hr*hour\n",
        "  if totalfee > 20:\n",
        "    totalfee=20\n",
        "  elif totalfee <10:\n",
        "    totalfee=10\n",
        "  print(f'{hour}){totalfee}')"
      ]
    }
  ]
}