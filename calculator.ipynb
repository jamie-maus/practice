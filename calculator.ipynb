{
  "cells": [
    {
      "cell_type": "markdown",
      "metadata": {
        "id": "view-in-github",
        "colab_type": "text"
      },
      "source": [
        "<a href=\"https://colab.research.google.com/github/jamie-maus/practice/blob/main/calculator.ipynb\" target=\"_parent\"><img src=\"https://colab.research.google.com/assets/colab-badge.svg\" alt=\"Open In Colab\"/></a>"
      ]
    },
    {
      "cell_type": "code",
      "execution_count": null,
      "metadata": {
        "colab": {
          "base_uri": "https://localhost:8080/"
        },
        "id": "4uxPhaBDbrCU",
        "outputId": "4614f91b-0d37-4a67-b6f3-1652aac7b777"
      },
      "outputs": [
        {
          "output_type": "stream",
          "name": "stdout",
          "text": [
            "Enter First Number: 1\n",
            "Enter First Number: 2\n",
            "Enter the operator: +\n",
            "Result:  3.0\n"
          ]
        }
      ],
      "source": [
        "while True:\n",
        "  n1= float(input(\"Enter First Number: \"))\n",
        "  n2= float(input(\"Enter First Number: \"))\n",
        "  operator = input('Enter the operator: ')\n",
        "\n",
        "  if operator == 'break':\n",
        "    break\n",
        "\n",
        "  if operator == \"+\":\n",
        "            answer = n1 + n2\n",
        "  elif operator == \"-\":\n",
        "            answer = n1 - n2\n",
        "  elif operator == \"*\":\n",
        "            answer = n1 * n1\n",
        "  elif operator == \"/\":\n",
        "            answer == n1/n2\n",
        "  elif operator == \"/ / \":\n",
        "            answer == \"**\"\n",
        "  elif operator == \"%\":\n",
        "            answer = n1 % n2\n",
        "  else:\n",
        "      print(\"Invalid Operator:\" ,operator)\n",
        "      continue\n",
        "\n",
        "  print(\"Result: \", answer)\n"
      ]
    }
  ],
  "metadata": {
    "colab": {
      "provenance": [],
      "authorship_tag": "ABX9TyOu6IaMrRTst1wK3NoMt+G6",
      "include_colab_link": true
    },
    "kernelspec": {
      "display_name": "Python 3",
      "name": "python3"
    },
    "language_info": {
      "name": "python"
    }
  },
  "nbformat": 4,
  "nbformat_minor": 0
}