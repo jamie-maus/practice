{
  "nbformat": 4,
  "nbformat_minor": 0,
  "metadata": {
    "colab": {
      "provenance": [],
      "authorship_tag": "ABX9TyMkCqNdHdPeazIP/w55HI48",
      "include_colab_link": true
    },
    "kernelspec": {
      "name": "python3",
      "display_name": "Python 3"
    },
    "language_info": {
      "name": "python"
    }
  },
  "cells": [
    {
      "cell_type": "markdown",
      "metadata": {
        "id": "view-in-github",
        "colab_type": "text"
      },
      "source": [
        "<a href=\"https://colab.research.google.com/github/jamie-maus/practice/blob/main/Rock_Paper_Scissors.ipynb\" target=\"_parent\"><img src=\"https://colab.research.google.com/assets/colab-badge.svg\" alt=\"Open In Colab\"/></a>"
      ]
    },
    {
      "cell_type": "code",
      "source": [],
      "metadata": {
        "id": "OJdU5LE-3SIq"
      },
      "execution_count": null,
      "outputs": []
    },
    {
      "cell_type": "code",
      "execution_count": null,
      "metadata": {
        "colab": {
          "base_uri": "https://localhost:8080/"
        },
        "id": "cKynB_Xf2N9L",
        "outputId": "dc97dbef-362a-4fa0-aba0-815591329b3e"
      },
      "outputs": [
        {
          "output_type": "stream",
          "name": "stdout",
          "text": [
            "choose one: rock, paper, or scissorsrock\n",
            "pc wins\n"
          ]
        }
      ],
      "source": [
        "import random\n",
        "pc_choice=random.choice([\"rock\", \"paper\", \"scissors\"])\n",
        "user_choice=input('choose one: rock, paper, or scissors')\n",
        "if pc_choice==user_choice:\n",
        "  print('Draw')\n",
        "elif pc_choice==\"rock\" and user_choice==\"paper\":\n",
        "  print('user wins')\n",
        "elif user_choice== \"rock\" and pc_choice==\"paper\":\n",
        "  print(\"pc wins\")\n",
        "elif pc_choice == \"paper\" and user_choice== \"scissors\":\n",
        "  print(\"user wins\")\n",
        "elif pc_choice == \"scissors\" and user_choice == \"paper\":\n",
        "  print(\"pc wins\")\n",
        "elif pc_choice == \"scissors\" and user_choice == \"rock\":\n",
        "  print(\"user wins\")\n",
        "elif pc_choice == \"rock\" and user_choice == \"scissors\":\n",
        "  print(\"pc wins\")\n"
      ]
    },
    {
      "cell_type": "code",
      "source": [
        "import random\n",
        "pc_choice=random.choice([\"rock\", \"paper\", \"scissors\"])\n",
        "user_choice=input('choose one: rock, paper, or scissors')\n",
        "if pc_choice==user_choice:\n",
        "  print('Draw')\n",
        "elif pc_choice==\"rock\" and user_choice==\"paper\" or pc_choice == \"paper\" and user_choice== \"scissors\" or pc_choice == \"scissors\" and user_choice == \"rock\":\n",
        "  print('user wins')\n",
        "elif user_choice== \"rock\" and pc_choice==\"paper\" or pc_choice == \"scissors\" and user_choice == \"paper\" or pc_choice == \"rock\" and user_choice == \"scissors\":\n",
        "  print(\"pc wins\")"
      ],
      "metadata": {
        "colab": {
          "base_uri": "https://localhost:8080/"
        },
        "id": "7vNJUxw06B-2",
        "outputId": "26f39734-5c85-4ecd-f3db-85a7714073a1"
      },
      "execution_count": null,
      "outputs": [
        {
          "output_type": "stream",
          "name": "stdout",
          "text": [
            "choose one: rock, paper, or scissorsrock\n",
            "user wins\n"
          ]
        }
      ]
    },
    {
      "cell_type": "markdown",
      "source": [
        "3 scenarios: tie, user wins, pc wins\n",
        "\n",
        "Program: define inputs, processing(comparison), outputs"
      ],
      "metadata": {
        "id": "SdnNMGC2290K"
      }
    }
  ]
}