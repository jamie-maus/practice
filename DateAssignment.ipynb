{
  "nbformat": 4,
  "nbformat_minor": 0,
  "metadata": {
    "colab": {
      "provenance": [],
      "authorship_tag": "ABX9TyOw5o9RR4NeoO7GSuy8fu1+",
      "include_colab_link": true
    },
    "kernelspec": {
      "name": "python3",
      "display_name": "Python 3"
    },
    "language_info": {
      "name": "python"
    }
  },
  "cells": [
    {
      "cell_type": "markdown",
      "metadata": {
        "id": "view-in-github",
        "colab_type": "text"
      },
      "source": [
        "<a href=\"https://colab.research.google.com/github/jamie-maus/practice/blob/main/DateAssignment.ipynb\" target=\"_parent\"><img src=\"https://colab.research.google.com/assets/colab-badge.svg\" alt=\"Open In Colab\"/></a>"
      ]
    },
    {
      "cell_type": "code",
      "execution_count": 6,
      "metadata": {
        "colab": {
          "base_uri": "https://localhost:8080/"
        },
        "id": "3AjsTashxdZB",
        "outputId": "338bd322-66ca-415e-c2cf-b798435e6bfe"
      },
      "outputs": [
        {
          "output_type": "stream",
          "name": "stdout",
          "text": [
            "MM/DD/YYYY11/30/2003\n",
            "11\n",
            "30\n",
            "2003\n"
          ]
        }
      ],
      "source": [
        "s = input(\"MM/DD/YYYY\")\n",
        "s_month = s[0:2]\n",
        "print(s_month)\n",
        "s_day = s[3:5]\n",
        "print(s_day)\n",
        "s_year = s[6:10]\n",
        "print(s_year)\n"
      ]
    }
  ]
}