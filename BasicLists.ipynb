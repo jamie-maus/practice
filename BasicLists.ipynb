{
  "nbformat": 4,
  "nbformat_minor": 0,
  "metadata": {
    "colab": {
      "provenance": [],
      "authorship_tag": "ABX9TyN92RnM6GGWDqpuAl64Xfvo",
      "include_colab_link": true
    },
    "kernelspec": {
      "name": "python3",
      "display_name": "Python 3"
    },
    "language_info": {
      "name": "python"
    }
  },
  "cells": [
    {
      "cell_type": "markdown",
      "metadata": {
        "id": "view-in-github",
        "colab_type": "text"
      },
      "source": [
        "<a href=\"https://colab.research.google.com/github/jamie-maus/practice/blob/main/BasicLists.ipynb\" target=\"_parent\"><img src=\"https://colab.research.google.com/assets/colab-badge.svg\" alt=\"Open In Colab\"/></a>"
      ]
    },
    {
      "cell_type": "code",
      "execution_count": null,
      "metadata": {
        "colab": {
          "base_uri": "https://localhost:8080/"
        },
        "id": "9BOx3IA40Btj",
        "outputId": "60e6a7d2-29d8-4493-8c96-12786e57e1fe"
      },
      "outputs": [
        {
          "output_type": "stream",
          "name": "stdout",
          "text": [
            "Enter a Value: 1\n",
            "[1]\n",
            "Enter a Value: 2\n",
            "[1, 2]\n",
            "Enter a Value: 7\n",
            "[1, 2, 7]\n",
            "Enter a Value: 0\n",
            "Game Over\n"
          ]
        }
      ],
      "source": [
        "L = []\n",
        "number= int(input('Enter a Value: '))\n",
        "\n",
        "while number != 0:\n",
        "  L.append(number)\n",
        "  print(L, end='\\n')\n",
        "  number= int(input('Enter a Value: '))\n",
        "\n",
        "if number==0:\n",
        "  print('Game Over')\n",
        "\n"
      ]
    }
  ]
}