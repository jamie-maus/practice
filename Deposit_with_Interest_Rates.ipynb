{
  "nbformat": 4,
  "nbformat_minor": 0,
  "metadata": {
    "colab": {
      "provenance": [],
      "authorship_tag": "ABX9TyMDSyZxIq3DbE9a1Uiuhih4",
      "include_colab_link": true
    },
    "kernelspec": {
      "name": "python3",
      "display_name": "Python 3"
    },
    "language_info": {
      "name": "python"
    }
  },
  "cells": [
    {
      "cell_type": "markdown",
      "metadata": {
        "id": "view-in-github",
        "colab_type": "text"
      },
      "source": [
        "<a href=\"https://colab.research.google.com/github/jamie-maus/practice/blob/main/Deposit_with_Interest_Rates.ipynb\" target=\"_parent\"><img src=\"https://colab.research.google.com/assets/colab-badge.svg\" alt=\"Open In Colab\"/></a>"
      ]
    },
    {
      "cell_type": "code",
      "execution_count": 2,
      "metadata": {
        "colab": {
          "base_uri": "https://localhost:8080/"
        },
        "id": "BOvgz_rAp9Lu",
        "outputId": "793f0440-2a39-4005-8b99-8f10276fc5ba"
      },
      "outputs": [
        {
          "output_type": "stream",
          "name": "stdout",
          "text": [
            "Enter your name: Jamie\n",
            "Enter customer type (n: new, e: existing): e\n",
            "Enter deposit amount: (in $)1000\n",
            "1030.0\n"
          ]
        }
      ],
      "source": [
        "Name = input('Enter your name: ')\n",
        "Customer_type = input('Enter customer type (n: new, e: existing): ')\n",
        "Deposit = float(input(\"Enter deposit amount: (in $)\"))\n",
        "\n",
        "if Customer_type == 'n':\n",
        "  Interest = 0.03\n",
        "else:\n",
        "  if Deposit <= 1000:\n",
        "    Interest = 0.03\n",
        "  elif Deposit <= 10000:\n",
        "    Interest = 0.0325\n",
        "  elif Deposit > 10000:\n",
        "    Interest = 0.035\n",
        "\n",
        "Total = (1 + Interest) * Deposit\n",
        "print(Total)"
      ]
    }
  ]
}