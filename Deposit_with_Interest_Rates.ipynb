{
  "nbformat": 4,
  "nbformat_minor": 0,
  "metadata": {
    "colab": {
      "provenance": [],
      "authorship_tag": "ABX9TyPPKBfOOW66fzVmljPK3F3t",
      "include_colab_link": true
    },
    "kernelspec": {
      "name": "python3",
      "display_name": "Python 3"
    },
    "language_info": {
      "name": "python"
    }
  },
  "cells": [
    {
      "cell_type": "markdown",
      "metadata": {
        "id": "view-in-github",
        "colab_type": "text"
      },
      "source": [
        "<a href=\"https://colab.research.google.com/github/jamie-maus/practice/blob/main/Deposit_with_Interest_Rates.ipynb\" target=\"_parent\"><img src=\"https://colab.research.google.com/assets/colab-badge.svg\" alt=\"Open In Colab\"/></a>"
      ]
    },
    {
      "cell_type": "code",
      "execution_count": null,
      "metadata": {
        "colab": {
          "base_uri": "https://localhost:8080/"
        },
        "id": "BOvgz_rAp9Lu",
        "outputId": "a6176c5d-6cda-4b3a-c240-d6557e6f8919"
      },
      "outputs": [
        {
          "output_type": "stream",
          "name": "stdout",
          "text": [
            "Hi, please enter your name: Jamie\n",
            "Enter customer type (n: new, e: existing): e\n",
            "Enter deposit amount: $1000\n",
            "Jamie, you will have $1030.0 in your account!\n"
          ]
        }
      ],
      "source": [
        "Name = input('Hi, please enter your name: ')\n",
        "Customer_type = input('Enter customer type (n: new, e: existing): ')\n",
        "Deposit = float(input(\"Enter deposit amount: $\"))\n",
        "\n",
        "if Customer_type == 'n':\n",
        "  Interest = 0.03\n",
        "else:\n",
        "  if Deposit <= 1000:\n",
        "    Interest = float (0.03)\n",
        "  elif Deposit <= 10000:\n",
        "    Interest = float(0.0325)\n",
        "  elif Deposit > 10000:\n",
        "    Interest = float (0.035)\n",
        "\n",
        "Amount = (1 + Interest) * Deposit\n",
        "print(f'{Name}, you will have ${round(Amount, 2)} in your account!')"
      ]
    }
  ]
}